{
  "nbformat": 4,
  "nbformat_minor": 0,
  "metadata": {
    "colab": {
      "provenance": []
    },
    "kernelspec": {
      "name": "python3",
      "display_name": "Python 3"
    },
    "language_info": {
      "name": "python"
    }
  },
  "cells": [
    {
      "cell_type": "code",
      "execution_count": null,
      "metadata": {
        "colab": {
          "base_uri": "https://localhost:8080/"
        },
        "id": "uCM8b0XdtOVS",
        "outputId": "113de44d-aefd-4d2f-da78-ea585acf3755"
      },
      "outputs": [
        {
          "output_type": "stream",
          "name": "stdout",
          "text": [
            "Requirement already satisfied: pyspark in /usr/local/lib/python3.11/dist-packages (3.5.1)\n",
            "Requirement already satisfied: py4j==0.10.9.7 in /usr/local/lib/python3.11/dist-packages (from pyspark) (0.10.9.7)\n"
          ]
        }
      ],
      "source": [
        "!pip install pyspark"
      ]
    },
    {
      "cell_type": "code",
      "source": [
        "from pyspark.sql import SparkSession\n",
        "\n",
        "spark = SparkSession.builder \\\n",
        "    .appName(\"NYC Taxi Analysis\") \\\n",
        "    .getOrCreate()"
      ],
      "metadata": {
        "id": "i_7Jr0IxtZeI"
      },
      "execution_count": null,
      "outputs": []
    },
    {
      "cell_type": "code",
      "source": [
        "df = spark.read.parquet(\"yellow_tripdata_2023-01.parquet\")\n",
        "df.printSchema()"
      ],
      "metadata": {
        "colab": {
          "base_uri": "https://localhost:8080/"
        },
        "id": "Nb3c76RgtyEZ",
        "outputId": "c746be0c-3fca-4044-a468-4281facb3711"
      },
      "execution_count": null,
      "outputs": [
        {
          "output_type": "stream",
          "name": "stdout",
          "text": [
            "root\n",
            " |-- VendorID: long (nullable = true)\n",
            " |-- tpep_pickup_datetime: timestamp_ntz (nullable = true)\n",
            " |-- tpep_dropoff_datetime: timestamp_ntz (nullable = true)\n",
            " |-- passenger_count: double (nullable = true)\n",
            " |-- trip_distance: double (nullable = true)\n",
            " |-- RatecodeID: double (nullable = true)\n",
            " |-- store_and_fwd_flag: string (nullable = true)\n",
            " |-- PULocationID: long (nullable = true)\n",
            " |-- DOLocationID: long (nullable = true)\n",
            " |-- payment_type: long (nullable = true)\n",
            " |-- fare_amount: double (nullable = true)\n",
            " |-- extra: double (nullable = true)\n",
            " |-- mta_tax: double (nullable = true)\n",
            " |-- tip_amount: double (nullable = true)\n",
            " |-- tolls_amount: double (nullable = true)\n",
            " |-- improvement_surcharge: double (nullable = true)\n",
            " |-- total_amount: double (nullable = true)\n",
            " |-- congestion_surcharge: double (nullable = true)\n",
            " |-- airport_fee: double (nullable = true)\n",
            "\n"
          ]
        }
      ]
    },
    {
      "cell_type": "code",
      "source": [
        "df.show(5)\n",
        "df.select(\"trip_distance\", \"total_amount\", \"passenger_count\").summary().show()"
      ],
      "metadata": {
        "colab": {
          "base_uri": "https://localhost:8080/"
        },
        "id": "xkk_c2DrujIH",
        "outputId": "bdf97936-c7d6-4b98-aa3e-ad516f784fa6"
      },
      "execution_count": null,
      "outputs": [
        {
          "output_type": "stream",
          "name": "stdout",
          "text": [
            "+--------+--------------------+---------------------+---------------+-------------+----------+------------------+------------+------------+------------+-----------+-----+-------+----------+------------+---------------------+------------+--------------------+-----------+\n",
            "|VendorID|tpep_pickup_datetime|tpep_dropoff_datetime|passenger_count|trip_distance|RatecodeID|store_and_fwd_flag|PULocationID|DOLocationID|payment_type|fare_amount|extra|mta_tax|tip_amount|tolls_amount|improvement_surcharge|total_amount|congestion_surcharge|airport_fee|\n",
            "+--------+--------------------+---------------------+---------------+-------------+----------+------------------+------------+------------+------------+-----------+-----+-------+----------+------------+---------------------+------------+--------------------+-----------+\n",
            "|       2| 2023-01-01 00:32:10|  2023-01-01 00:40:36|            1.0|         0.97|       1.0|                 N|         161|         141|           2|        9.3|  1.0|    0.5|       0.0|         0.0|                  1.0|        14.3|                 2.5|        0.0|\n",
            "|       2| 2023-01-01 00:55:08|  2023-01-01 01:01:27|            1.0|          1.1|       1.0|                 N|          43|         237|           1|        7.9|  1.0|    0.5|       4.0|         0.0|                  1.0|        16.9|                 2.5|        0.0|\n",
            "|       2| 2023-01-01 00:25:04|  2023-01-01 00:37:49|            1.0|         2.51|       1.0|                 N|          48|         238|           1|       14.9|  1.0|    0.5|      15.0|         0.0|                  1.0|        34.9|                 2.5|        0.0|\n",
            "|       1| 2023-01-01 00:03:48|  2023-01-01 00:13:25|            0.0|          1.9|       1.0|                 N|         138|           7|           1|       12.1| 7.25|    0.5|       0.0|         0.0|                  1.0|       20.85|                 0.0|       1.25|\n",
            "|       2| 2023-01-01 00:10:29|  2023-01-01 00:21:19|            1.0|         1.43|       1.0|                 N|         107|          79|           1|       11.4|  1.0|    0.5|      3.28|         0.0|                  1.0|       19.68|                 2.5|        0.0|\n",
            "+--------+--------------------+---------------------+---------------+-------------+----------+------------------+------------+------------+------------+-----------+-----+-------+----------+------------+---------------------+------------+--------------------+-----------+\n",
            "only showing top 5 rows\n",
            "\n",
            "+-------+------------------+------------------+------------------+\n",
            "|summary|     trip_distance|      total_amount|   passenger_count|\n",
            "+-------+------------------+------------------+------------------+\n",
            "|  count|           3066766|           3066766|           2995023|\n",
            "|   mean|3.8473420306601414| 27.02038310708492|1.3625321074328978|\n",
            "| stddev|249.58375606858166|22.163588952492184|0.8961199745510026|\n",
            "|    min|               0.0|            -751.0|               0.0|\n",
            "|    25%|              1.06|              15.4|               1.0|\n",
            "|    50%|               1.8|             20.16|               1.0|\n",
            "|    75%|              3.33|              28.7|               1.0|\n",
            "|    max|         258928.15|            1169.4|               9.0|\n",
            "+-------+------------------+------------------+------------------+\n",
            "\n"
          ]
        }
      ]
    },
    {
      "cell_type": "code",
      "source": [
        "df.groupBy(\"passenger_count\").count().orderBy(\"count\", ascending=False).show()\n"
      ],
      "metadata": {
        "colab": {
          "base_uri": "https://localhost:8080/"
        },
        "id": "-kv6b1krupd1",
        "outputId": "a10bd968-d5e4-41ad-958a-81df99144533"
      },
      "execution_count": null,
      "outputs": [
        {
          "output_type": "stream",
          "name": "stdout",
          "text": [
            "+---------------+-------+\n",
            "|passenger_count|  count|\n",
            "+---------------+-------+\n",
            "|            1.0|2261400|\n",
            "|            2.0| 451536|\n",
            "|            3.0| 106353|\n",
            "|           NULL|  71743|\n",
            "|            4.0|  53745|\n",
            "|            0.0|  51164|\n",
            "|            5.0|  42681|\n",
            "|            6.0|  28124|\n",
            "|            8.0|     13|\n",
            "|            7.0|      6|\n",
            "|            9.0|      1|\n",
            "+---------------+-------+\n",
            "\n"
          ]
        }
      ]
    },
    {
      "cell_type": "code",
      "source": [
        "df.groupBy(\"passenger_count\").avg(\"total_amount\").orderBy(\"avg(total_amount)\", ascending=False).show()"
      ],
      "metadata": {
        "colab": {
          "base_uri": "https://localhost:8080/"
        },
        "id": "-wnc8nkcus0F",
        "outputId": "898a3c5f-0ff5-4f92-bf6d-805e3173e5e2"
      },
      "execution_count": null,
      "outputs": [
        {
          "output_type": "stream",
          "name": "stdout",
          "text": [
            "+---------------+------------------+\n",
            "|passenger_count| avg(total_amount)|\n",
            "+---------------+------------------+\n",
            "|            8.0| 99.33692307692307|\n",
            "|            9.0|             92.25|\n",
            "|            7.0| 85.11166666666666|\n",
            "|            4.0|29.611602381617445|\n",
            "|            2.0|29.313282019602468|\n",
            "|           NULL|  29.1335898972719|\n",
            "|            3.0|28.475419687266424|\n",
            "|            5.0| 26.58826128722399|\n",
            "|            6.0|26.558483857203942|\n",
            "|            1.0|26.443471973092926|\n",
            "|            0.0|24.162123563442954|\n",
            "+---------------+------------------+\n",
            "\n"
          ]
        }
      ]
    },
    {
      "cell_type": "code",
      "source": [
        "df.filter(df.payment_type == 1).select(\"tip_amount\").summary().show()"
      ],
      "metadata": {
        "colab": {
          "base_uri": "https://localhost:8080/"
        },
        "id": "vvMDo_Bcuz7f",
        "outputId": "7af41cc2-677a-4170-d4f3-326f3a2f43fb"
      },
      "execution_count": null,
      "outputs": [
        {
          "output_type": "stream",
          "name": "stdout",
          "text": [
            "+-------+------------------+\n",
            "|summary|        tip_amount|\n",
            "+-------+------------------+\n",
            "|  count|           2411462|\n",
            "|   mean|4.1707994527813295|\n",
            "| stddev| 3.856246195747605|\n",
            "|    min|            -64.66|\n",
            "|    25%|               2.1|\n",
            "|    50%|              3.15|\n",
            "|    75%|               4.7|\n",
            "|    max|             380.8|\n",
            "+-------+------------------+\n",
            "\n"
          ]
        }
      ]
    },
    {
      "cell_type": "code",
      "source": [
        "from pyspark.sql.functions import hour\n",
        "\n",
        "df = df.withColumn(\"pickup_hour\", hour(\"tpep_pickup_datetime\"))\n",
        "df.groupBy(\"pickup_hour\").count().orderBy(\"pickup_hour\").show()\n"
      ],
      "metadata": {
        "colab": {
          "base_uri": "https://localhost:8080/"
        },
        "id": "aSKqv8_nu3_n",
        "outputId": "8fab024f-9434-45e7-da55-a1cdbbf92b92"
      },
      "execution_count": null,
      "outputs": [
        {
          "output_type": "stream",
          "name": "stdout",
          "text": [
            "+-----------+------+\n",
            "|pickup_hour| count|\n",
            "+-----------+------+\n",
            "|          0| 84969|\n",
            "|          1| 59799|\n",
            "|          2| 42040|\n",
            "|          3| 27438|\n",
            "|          4| 17835|\n",
            "|          5| 18011|\n",
            "|          6| 43860|\n",
            "|          7| 86877|\n",
            "|          8|116865|\n",
            "|          9|131111|\n",
            "|         10|143666|\n",
            "|         11|154157|\n",
            "|         12|169858|\n",
            "|         13|178739|\n",
            "|         14|191604|\n",
            "|         15|196424|\n",
            "|         16|195977|\n",
            "|         17|209493|\n",
            "|         18|215889|\n",
            "|         19|192801|\n",
            "+-----------+------+\n",
            "only showing top 20 rows\n",
            "\n"
          ]
        }
      ]
    },
    {
      "cell_type": "code",
      "source": [
        "sample = df.limit(5000).toPandas()\n",
        "import seaborn as sns\n",
        "import matplotlib.pyplot as plt\n",
        "\n",
        "sns.histplot(data=sample, x=\"trip_distance\", bins=50)\n",
        "plt.title(\"Trip Distance Distribution\")\n",
        "plt.show()\n"
      ],
      "metadata": {
        "colab": {
          "base_uri": "https://localhost:8080/",
          "height": 472
        },
        "id": "T6nCk7ZLu6Lh",
        "outputId": "2f01aa32-6526-47f9-8e31-2c4cc7e69555"
      },
      "execution_count": null,
      "outputs": [
        {
          "output_type": "display_data",
          "data": {
            "text/plain": [
              "<Figure size 640x480 with 1 Axes>"
            ],
            "image/png": "[encoded data removed]"
          },
          "metadata": {}
        }
      ]
    }
  ]
}